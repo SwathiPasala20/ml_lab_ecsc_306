{
 "cells": [
  {
   "cell_type": "markdown",
   "metadata": {},
   "source": [
    "## Slot D1\n",
    "1. $$ (a+b)^2 = a^2 + b^2 + 2ab $$\n"
   ]
  },
  {
   "cell_type": "code",
   "execution_count": 5,
   "metadata": {},
   "outputs": [
    {
     "name": "stdout",
     "output_type": "stream",
     "text": [
      "64\n"
     ]
    }
   ],
   "source": [
    "import tensorflow as tf\n",
    "x1=3\n",
    "y1=5\n",
    "with tf.name_scope(\"A_1\"):\n",
    "    with tf.name_scope(\"a2\"):\n",
    "        a1 = tf.pow(x1,2)\n",
    "    with tf.name_scope(\"b2\"):\n",
    "        b1 = tf.pow(y1,2)\n",
    "\n",
    "    with tf.name_scope(\"2ab\"):\n",
    "        c1 = tf.multiply(x1,y1)\n",
    "        e1 = tf.multiply(2,c1)\n",
    "\n",
    "    with tf.name_scope(\"sol\"):\n",
    "        d1=  tf.add(a1,b1)\n",
    "        f1 = tf.add(d1,e1,name=\"Add_these_numbers\")\n",
    "        \n",
    "    with tf.Session() as sess:\n",
    "        writer = tf.summary.FileWriter(\"/tmp/tboard/s1\", sess.graph)\n",
    "        print(sess.run(f1))\n",
    "        writer.close()"
   ]
  },
  {
   "cell_type": "markdown",
   "metadata": {},
   "source": [
    "2.$$ (a-b)^3 = a^3 - b^3 - 3ab(a-b) $$"
   ]
  },
  {
   "cell_type": "code",
   "execution_count": 10,
   "metadata": {},
   "outputs": [
    {
     "name": "stdout",
     "output_type": "stream",
     "text": [
      "8\n"
     ]
    }
   ],
   "source": [
    "import tensorflow as tf\n",
    "x2=5\n",
    "y2=3\n",
    "with tf.name_scope(\"A_2\"):\n",
    "    with tf.name_scope(\"x3\"):\n",
    "        a2 = tf.pow(x2,3)\n",
    "    with tf.name_scope(\"y3\"):\n",
    "        b2 = tf.pow(y2,3)\n",
    "    with tf.name_scope(\"3xy\"):\n",
    "        m2 = tf.multiply(x2,y2)\n",
    "        c2 = tf.multiply(3,m2)\n",
    "      \n",
    "    with tf.name_scope(\"x_minus_y\"):\n",
    "        d2 = tf.subtract(x2,y2)\n",
    "     \n",
    "    with tf.name_scope(\"3xy_x_minus_y\"):\n",
    "        e2 = tf.multiply(c2,d2)\n",
    "           \n",
    "    with tf.name_scope(\"x3-y3\"):\n",
    "        f2 = tf.subtract(a2,b2)\n",
    "           \n",
    "    with tf.name_scope(\"sol\"):\n",
    "        g2 = tf.subtract(f2,e2)\n",
    "\n",
    "    with tf.Session() as sess:\n",
    "        writer = tf.summary.FileWriter(\"/tmp/tboard/s2\", sess.graph)\n",
    "        print(sess.run(g2))\n",
    "        writer.close()\n",
    "\n"
   ]
  },
  {
   "cell_type": "code",
   "execution_count": null,
   "metadata": {
    "collapsed": true
   },
   "outputs": [],
   "source": []
  }
 ],
 "metadata": {
  "kernelspec": {
   "display_name": "Python 3",
   "language": "python",
   "name": "python3"
  },
  "language_info": {
   "codemirror_mode": {
    "name": "ipython",
    "version": 3
   },
   "file_extension": ".py",
   "mimetype": "text/x-python",
   "name": "python",
   "nbconvert_exporter": "python",
   "pygments_lexer": "ipython3",
   "version": "3.6.1"
  }
 },
 "nbformat": 4,
 "nbformat_minor": 2
}
